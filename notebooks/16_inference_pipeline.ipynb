{
 "cells": [
  {
   "cell_type": "code",
   "execution_count": 1,
   "id": "cc080774-f41a-4503-a064-c0ac819eeb99",
   "metadata": {},
   "outputs": [],
   "source": [
    "# Reg fetch new batch of features and compute predictions and save to feature store\n",
    "# "
   ]
  },
  {
   "cell_type": "code",
   "execution_count": 1,
   "id": "3be2eafc",
   "metadata": {},
   "outputs": [],
   "source": [
    "# %load_ext autoreload\n",
    "# %autoreload 2\n",
    "\n",
    "import sys\n",
    "import os\n",
    "from datetime import timedelta\n",
    "import pandas as pd\n",
    "\n",
    "# Add src directory to path\n",
    "sys.path.append(os.path.abspath(os.path.join(os.getcwd(), \"..\")))\n",
    "\n",
    "import src.config as config\n",
    "from src.inference import get_feature_store\n"
   ]
  },
  {
   "cell_type": "code",
   "execution_count": 2,
   "id": "bca0f057",
   "metadata": {},
   "outputs": [],
   "source": [
    "# Step 1: Setup and Imports\n",
    "import pandas as pd\n",
    "import datetime\n",
    "import requests\n",
    "import hopsworks\n",
    "from src.inference import (\n",
    "    get_feature_store,\n",
    "    get_model_predictions,\n",
    "    load_model_from_registry,\n",
    "    transform_ts_data_info_features\n",
    ")\n",
    "import src.config as config"
   ]
  },
  {
   "cell_type": "code",
   "execution_count": 4,
   "id": "4febf2ec",
   "metadata": {},
   "outputs": [
    {
     "name": "stdout",
     "output_type": "stream",
     "text": [
      "🔐 Connecting to Hopsworks...\n",
      "2025-05-11 01:42:50,800 INFO: Closing external client and cleaning up certificates.\n",
      "Connection closed.\n",
      "2025-05-11 01:42:50,804 INFO: Initializing external client\n",
      "2025-05-11 01:42:50,805 INFO: Base URL: https://c.app.hopsworks.ai:443\n"
     ]
    },
    {
     "name": "stderr",
     "output_type": "stream",
     "text": [
      "\n",
      "\n",
      "UserWarning: The installed hopsworks client version 4.1.8 may not be compatible with the connected Hopsworks backend version 4.2.0. \n",
      "To ensure compatibility please install the latest bug fix release matching the minor version of your backend (4.2) by running 'pip install hopsworks==4.2.*'\n"
     ]
    },
    {
     "name": "stdout",
     "output_type": "stream",
     "text": [
      "2025-05-11 01:42:51,581 INFO: Python Engine initialized.\n",
      "\n",
      "Logged in to project, explore it here https://c.app.hopsworks.ai:443/p/1215676\n"
     ]
    }
   ],
   "source": [
    "# Step 2: Connect to Hopsworks\n",
    "print(\"🔐 Connecting to Hopsworks...\")\n",
    "fs = get_feature_store()"
   ]
  },
  {
   "cell_type": "code",
   "execution_count": 5,
   "id": "6182c0f6",
   "metadata": {},
   "outputs": [
    {
     "name": "stdout",
     "output_type": "stream",
     "text": [
      "📦 Loading latest model...\n",
      "2025-05-11 01:42:54,849 INFO: Closing external client and cleaning up certificates.\n",
      "Connection closed.\n",
      "2025-05-11 01:42:54,853 INFO: Initializing external client\n",
      "2025-05-11 01:42:54,853 INFO: Base URL: https://c.app.hopsworks.ai:443\n"
     ]
    },
    {
     "name": "stderr",
     "output_type": "stream",
     "text": [
      "\n",
      "\n"
     ]
    },
    {
     "name": "stdout",
     "output_type": "stream",
     "text": [
      "2025-05-11 01:42:55,697 INFO: Python Engine initialized.\n",
      "\n",
      "Logged in to project, explore it here https://c.app.hopsworks.ai:443/p/1215676\n",
      "Downloading model artifact (0 dirs, 1 files)... DONE"
     ]
    }
   ],
   "source": [
    "# Step 3: Load Model from Registry\n",
    "print(\"📦 Loading latest model...\")\n",
    "model = load_model_from_registry()"
   ]
  },
  {
   "cell_type": "code",
   "execution_count": 6,
   "id": "5a5270e1",
   "metadata": {},
   "outputs": [
    {
     "name": "stdout",
     "output_type": "stream",
     "text": [
      "📡 Fetching recent time-series features...\n"
     ]
    }
   ],
   "source": [
    "# Step 4: Retrieve Recent Feature Data\n",
    "print(\"📡 Fetching recent time-series features...\")\n",
    "fv = fs.get_feature_view(name=config.FEATURE_VIEW_NAME, version=config.FEATURE_VIEW_VERSION)\n"
   ]
  },
  {
   "cell_type": "code",
   "execution_count": 7,
   "id": "5f9bac2d",
   "metadata": {},
   "outputs": [
    {
     "name": "stdout",
     "output_type": "stream",
     "text": [
      "Finished: Reading data from Hopsworks, using Hopsworks Feature Query Service (0.99s) \n"
     ]
    }
   ],
   "source": [
    "# Compute fetch bounds\n",
    "latest_hour = fv.get_batch_data().pickup_hour.max()\n",
    "window_size = 24 * 28\n",
    "fetch_from  = latest_hour - pd.Timedelta(hours=window_size + 1)\n",
    "fetch_to    = latest_hour"
   ]
  },
  {
   "cell_type": "code",
   "execution_count": 8,
   "id": "3b258be2",
   "metadata": {},
   "outputs": [
    {
     "name": "stdout",
     "output_type": "stream",
     "text": [
      "Finished: Reading data from Hopsworks, using Hopsworks Feature Query Service (0.95s) \n"
     ]
    }
   ],
   "source": [
    "# Pull feature data\n",
    "ts = fv.get_batch_data(start_time=fetch_from, end_time=fetch_to)\n",
    "ts = ts.loc[lambda df: df.pickup_hour.between(fetch_from, fetch_to)].sort_values([\"pickup_location_id\", \"pickup_hour\"])\n"
   ]
  },
  {
   "cell_type": "code",
   "execution_count": 9,
   "id": "83fa6070",
   "metadata": {},
   "outputs": [],
   "source": [
    "# Step 5: Prepare Inference Data\n",
    "features = transform_ts_data_info_features(ts, feature_col=\"rides\", window_size=window_size, step_size=1)\n",
    "features[\"target\"] = 0  # dummy target for pipeline"
   ]
  },
  {
   "cell_type": "code",
   "execution_count": 13,
   "id": "a5f64842",
   "metadata": {},
   "outputs": [
    {
     "name": "stdout",
     "output_type": "stream",
     "text": [
      "  pickup_location_id  predicted_rides               pickup_hour\n",
      "0            5329.03                6 2024-01-01 00:00:00+00:00\n",
      "1            6140.05                4 2024-01-01 00:00:00+00:00\n",
      "2            6948.10               10 2024-01-01 00:00:00+00:00\n"
     ]
    }
   ],
   "source": [
    "# Step 6: Make Prediction\n",
    "pred_df = get_model_predictions(model, features)\n",
    "pred_df = pred_df.rename(columns={\"predicted_demand\": \"predicted_rides\"})\n",
    "pred_df[\"pickup_hour\"] = latest_hour + pd.Timedelta(hours=1)\n",
    "print(pred_df.head())"
   ]
  },
  {
   "cell_type": "code",
   "execution_count": 15,
   "id": "7ac83771",
   "metadata": {},
   "outputs": [
    {
     "name": "stdout",
     "output_type": "stream",
     "text": [
      "✅ Prediction saved to latest_prediction.csv\n"
     ]
    }
   ],
   "source": [
    "pred_df.to_csv(\"latest_prediction.csv\", index=False)\n",
    "print(\"✅ Prediction saved to latest_prediction.csv\")\n"
   ]
  },
  {
   "cell_type": "code",
   "execution_count": null,
   "id": "459df2bc",
   "metadata": {},
   "outputs": [],
   "source": []
  }
 ],
 "metadata": {
  "kernelspec": {
   "display_name": "Python 3 (ipykernel)",
   "language": "python",
   "name": "python3"
  },
  "language_info": {
   "codemirror_mode": {
    "name": "ipython",
    "version": 3
   },
   "file_extension": ".py",
   "mimetype": "text/x-python",
   "name": "python",
   "nbconvert_exporter": "python",
   "pygments_lexer": "ipython3",
   "version": "3.12.7"
  }
 },
 "nbformat": 4,
 "nbformat_minor": 5
}
