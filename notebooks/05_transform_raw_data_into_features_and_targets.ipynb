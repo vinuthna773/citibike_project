{
 "cells": [
  {
   "cell_type": "markdown",
   "id": "6f476cb6-bf4f-4242-9d61-2bb2465f2920",
   "metadata": {},
   "source": [
    "## Steps\n",
    "1. Download all raw data for a given year and month\n",
    "1. For each raw data, apply the filter before saving it\n",
    "1. Transform the saved raw data into TS data\n",
    "1. Convert the ts data into features and targets\n",
    "1. Save the transformed data\n",
    "\n",
    "\n",
    "Main objective is to write utility functions to do all these things so we can reuse them later. "
   ]
  },
  {
   "cell_type": "code",
   "execution_count": 2,
   "id": "6f98128f-2321-4869-9ea9-e1071baaf8c4",
   "metadata": {},
   "outputs": [],
   "source": [
    "# %load_ext autoreload\n",
    "# %autoreload 2"
   ]
  },
  {
   "cell_type": "code",
   "execution_count": 1,
   "id": "71ee392a",
   "metadata": {},
   "outputs": [],
   "source": [
    "import sys\n",
    "import os\n",
    "\n",
    "# Add the parent directory to the Python path\n",
    "sys.path.append(os.path.abspath(os.path.join(os.getcwd(), \"..\")))\n",
    "\n",
    "# Now import your Citi Bike utility\n",
    "from src.data_utils import load_and_process_citibike_data\n"
   ]
  },
  {
   "cell_type": "code",
   "execution_count": 2,
   "id": "68063794",
   "metadata": {},
   "outputs": [
    {
     "name": "stdout",
     "output_type": "stream",
     "text": [
      "⬇️ Downloading 2023-citibike-tripdata.zip from https://s3.amazonaws.com/tripdata/2023-citibike-tripdata.zip\n",
      "✅ Downloaded 2023-citibike-tripdata.zip\n",
      "📦 Extracting 2023-citibike-tripdata.zip\n",
      "\n",
      "📁 Looking for monthly zips in: /Users/Vinuthna/Downloads/Final_Project/Final_Project/data/raw/2023-citibike-tripdata/2023-citibike-tripdata\n",
      "📦 Extracting 202301-citibike-tripdata.zip\n",
      "\n",
      "📁 Checking for CSVs in: /Users/Vinuthna/Downloads/Final_Project/Final_Project/data/raw/2023-citibike-tripdata/2023-citibike-tripdata/202301-citibike-tripdata\n",
      "🗂️ Reading 202301-citibike-tripdata_1.csv\n"
     ]
    },
    {
     "name": "stderr",
     "output_type": "stream",
     "text": [
      "/Users/Vinuthna/Downloads/Final_Project/Final_Project/src/data_utils.py:203: DtypeWarning: Columns (5,7) have mixed types. Specify dtype option on import or set low_memory=False.\n",
      "  df = pd.read_csv(csv_file)\n",
      "/Users/Vinuthna/Downloads/Final_Project/Final_Project/src/data_utils.py:111: SettingWithCopyWarning: \n",
      "A value is trying to be set on a copy of a slice from a DataFrame.\n",
      "Try using .loc[row_indexer,col_indexer] = value instead\n",
      "\n",
      "See the caveats in the documentation: https://pandas.pydata.org/pandas-docs/stable/user_guide/indexing.html#returning-a-view-versus-a-copy\n",
      "  df['start_station_id'] = df['start_station_id'].astype(str)\n"
     ]
    },
    {
     "name": "stdout",
     "output_type": "stream",
     "text": [
      "🗂️ Reading 202301-citibike-tripdata_2.csv\n"
     ]
    },
    {
     "name": "stderr",
     "output_type": "stream",
     "text": [
      "/Users/Vinuthna/Downloads/Final_Project/Final_Project/src/data_utils.py:203: DtypeWarning: Columns (5,7) have mixed types. Specify dtype option on import or set low_memory=False.\n",
      "  df = pd.read_csv(csv_file)\n"
     ]
    },
    {
     "name": "stdout",
     "output_type": "stream",
     "text": [
      "✅ Finished processing for 2023-01\n",
      "📦 Extracting 202302-citibike-tripdata.zip\n",
      "\n",
      "📁 Checking for CSVs in: /Users/Vinuthna/Downloads/Final_Project/Final_Project/data/raw/2023-citibike-tripdata/2023-citibike-tripdata/202302-citibike-tripdata\n",
      "🗂️ Reading 202302-citibike-tripdata_2.csv\n"
     ]
    },
    {
     "name": "stderr",
     "output_type": "stream",
     "text": [
      "/Users/Vinuthna/Downloads/Final_Project/Final_Project/src/data_utils.py:203: DtypeWarning: Columns (5,7) have mixed types. Specify dtype option on import or set low_memory=False.\n",
      "  df = pd.read_csv(csv_file)\n"
     ]
    },
    {
     "name": "stdout",
     "output_type": "stream",
     "text": [
      "🗂️ Reading 202302-citibike-tripdata_1.csv\n"
     ]
    },
    {
     "name": "stderr",
     "output_type": "stream",
     "text": [
      "/Users/Vinuthna/Downloads/Final_Project/Final_Project/src/data_utils.py:203: DtypeWarning: Columns (5,7) have mixed types. Specify dtype option on import or set low_memory=False.\n",
      "  df = pd.read_csv(csv_file)\n",
      "/Users/Vinuthna/Downloads/Final_Project/Final_Project/src/data_utils.py:111: SettingWithCopyWarning: \n",
      "A value is trying to be set on a copy of a slice from a DataFrame.\n",
      "Try using .loc[row_indexer,col_indexer] = value instead\n",
      "\n",
      "See the caveats in the documentation: https://pandas.pydata.org/pandas-docs/stable/user_guide/indexing.html#returning-a-view-versus-a-copy\n",
      "  df['start_station_id'] = df['start_station_id'].astype(str)\n"
     ]
    },
    {
     "name": "stdout",
     "output_type": "stream",
     "text": [
      "✅ Finished processing for 2023-02\n",
      "📦 Extracting 202303-citibike-tripdata.zip\n",
      "\n",
      "📁 Checking for CSVs in: /Users/Vinuthna/Downloads/Final_Project/Final_Project/data/raw/2023-citibike-tripdata/2023-citibike-tripdata/202303-citibike-tripdata\n",
      "🗂️ Reading 202303-citibike-tripdata_1.csv\n"
     ]
    },
    {
     "name": "stderr",
     "output_type": "stream",
     "text": [
      "/Users/Vinuthna/Downloads/Final_Project/Final_Project/src/data_utils.py:203: DtypeWarning: Columns (7) have mixed types. Specify dtype option on import or set low_memory=False.\n",
      "  df = pd.read_csv(csv_file)\n",
      "/Users/Vinuthna/Downloads/Final_Project/Final_Project/src/data_utils.py:111: SettingWithCopyWarning: \n",
      "A value is trying to be set on a copy of a slice from a DataFrame.\n",
      "Try using .loc[row_indexer,col_indexer] = value instead\n",
      "\n",
      "See the caveats in the documentation: https://pandas.pydata.org/pandas-docs/stable/user_guide/indexing.html#returning-a-view-versus-a-copy\n",
      "  df['start_station_id'] = df['start_station_id'].astype(str)\n"
     ]
    },
    {
     "name": "stdout",
     "output_type": "stream",
     "text": [
      "🗂️ Reading 202303-citibike-tripdata_2.csv\n"
     ]
    },
    {
     "name": "stderr",
     "output_type": "stream",
     "text": [
      "/Users/Vinuthna/Downloads/Final_Project/Final_Project/src/data_utils.py:203: DtypeWarning: Columns (7) have mixed types. Specify dtype option on import or set low_memory=False.\n",
      "  df = pd.read_csv(csv_file)\n",
      "/Users/Vinuthna/Downloads/Final_Project/Final_Project/src/data_utils.py:111: SettingWithCopyWarning: \n",
      "A value is trying to be set on a copy of a slice from a DataFrame.\n",
      "Try using .loc[row_indexer,col_indexer] = value instead\n",
      "\n",
      "See the caveats in the documentation: https://pandas.pydata.org/pandas-docs/stable/user_guide/indexing.html#returning-a-view-versus-a-copy\n",
      "  df['start_station_id'] = df['start_station_id'].astype(str)\n"
     ]
    },
    {
     "name": "stdout",
     "output_type": "stream",
     "text": [
      "🗂️ Reading 202303-citibike-tripdata_3.csv\n",
      "✅ Finished processing for 2023-03\n",
      "📦 Extracting 202304-citibike-tripdata.zip\n",
      "\n",
      "📁 Checking for CSVs in: /Users/Vinuthna/Downloads/Final_Project/Final_Project/data/raw/2023-citibike-tripdata/2023-citibike-tripdata/202304-citibike-tripdata\n",
      "🗂️ Reading 202304-citibike-tripdata_3.csv\n"
     ]
    },
    {
     "name": "stderr",
     "output_type": "stream",
     "text": [
      "/Users/Vinuthna/Downloads/Final_Project/Final_Project/src/data_utils.py:203: DtypeWarning: Columns (5,7) have mixed types. Specify dtype option on import or set low_memory=False.\n",
      "  df = pd.read_csv(csv_file)\n"
     ]
    },
    {
     "name": "stdout",
     "output_type": "stream",
     "text": [
      "🗂️ Reading 202304-citibike-tripdata_2.csv\n"
     ]
    },
    {
     "name": "stderr",
     "output_type": "stream",
     "text": [
      "/Users/Vinuthna/Downloads/Final_Project/Final_Project/src/data_utils.py:203: DtypeWarning: Columns (5,7) have mixed types. Specify dtype option on import or set low_memory=False.\n",
      "  df = pd.read_csv(csv_file)\n"
     ]
    },
    {
     "name": "stdout",
     "output_type": "stream",
     "text": [
      "🗂️ Reading 202304-citibike-tripdata_1.csv\n"
     ]
    },
    {
     "name": "stderr",
     "output_type": "stream",
     "text": [
      "/Users/Vinuthna/Downloads/Final_Project/Final_Project/src/data_utils.py:203: DtypeWarning: Columns (5,7) have mixed types. Specify dtype option on import or set low_memory=False.\n",
      "  df = pd.read_csv(csv_file)\n",
      "/Users/Vinuthna/Downloads/Final_Project/Final_Project/src/data_utils.py:111: SettingWithCopyWarning: \n",
      "A value is trying to be set on a copy of a slice from a DataFrame.\n",
      "Try using .loc[row_indexer,col_indexer] = value instead\n",
      "\n",
      "See the caveats in the documentation: https://pandas.pydata.org/pandas-docs/stable/user_guide/indexing.html#returning-a-view-versus-a-copy\n",
      "  df['start_station_id'] = df['start_station_id'].astype(str)\n"
     ]
    },
    {
     "name": "stdout",
     "output_type": "stream",
     "text": [
      "✅ Finished processing for 2023-04\n",
      "📦 Extracting 202305-citibike-tripdata.zip\n",
      "\n",
      "📁 Checking for CSVs in: /Users/Vinuthna/Downloads/Final_Project/Final_Project/data/raw/2023-citibike-tripdata/2023-citibike-tripdata/202305-citibike-tripdata\n",
      "🗂️ Reading 202305-citibike-tripdata_4.csv\n"
     ]
    },
    {
     "name": "stderr",
     "output_type": "stream",
     "text": [
      "/Users/Vinuthna/Downloads/Final_Project/Final_Project/src/data_utils.py:203: DtypeWarning: Columns (7) have mixed types. Specify dtype option on import or set low_memory=False.\n",
      "  df = pd.read_csv(csv_file)\n"
     ]
    },
    {
     "name": "stdout",
     "output_type": "stream",
     "text": [
      "🗂️ Reading 202305-citibike-tripdata_1.csv\n"
     ]
    },
    {
     "name": "stderr",
     "output_type": "stream",
     "text": [
      "/Users/Vinuthna/Downloads/Final_Project/Final_Project/src/data_utils.py:203: DtypeWarning: Columns (5,7) have mixed types. Specify dtype option on import or set low_memory=False.\n",
      "  df = pd.read_csv(csv_file)\n",
      "/Users/Vinuthna/Downloads/Final_Project/Final_Project/src/data_utils.py:111: SettingWithCopyWarning: \n",
      "A value is trying to be set on a copy of a slice from a DataFrame.\n",
      "Try using .loc[row_indexer,col_indexer] = value instead\n",
      "\n",
      "See the caveats in the documentation: https://pandas.pydata.org/pandas-docs/stable/user_guide/indexing.html#returning-a-view-versus-a-copy\n",
      "  df['start_station_id'] = df['start_station_id'].astype(str)\n"
     ]
    },
    {
     "name": "stdout",
     "output_type": "stream",
     "text": [
      "🗂️ Reading 202305-citibike-tripdata_2.csv\n"
     ]
    },
    {
     "name": "stderr",
     "output_type": "stream",
     "text": [
      "/Users/Vinuthna/Downloads/Final_Project/Final_Project/src/data_utils.py:203: DtypeWarning: Columns (7) have mixed types. Specify dtype option on import or set low_memory=False.\n",
      "  df = pd.read_csv(csv_file)\n"
     ]
    },
    {
     "name": "stdout",
     "output_type": "stream",
     "text": [
      "🗂️ Reading 202305-citibike-tripdata_3.csv\n"
     ]
    },
    {
     "name": "stderr",
     "output_type": "stream",
     "text": [
      "/Users/Vinuthna/Downloads/Final_Project/Final_Project/src/data_utils.py:203: DtypeWarning: Columns (5,7) have mixed types. Specify dtype option on import or set low_memory=False.\n",
      "  df = pd.read_csv(csv_file)\n"
     ]
    },
    {
     "name": "stdout",
     "output_type": "stream",
     "text": [
      "✅ Finished processing for 2023-05\n",
      "📦 Extracting 202306-citibike-tripdata.zip\n",
      "\n",
      "📁 Checking for CSVs in: /Users/Vinuthna/Downloads/Final_Project/Final_Project/data/raw/2023-citibike-tripdata/2023-citibike-tripdata/202306-citibike-tripdata\n",
      "🗂️ Reading 202306-citibike-tripdata_2.csv\n"
     ]
    },
    {
     "name": "stderr",
     "output_type": "stream",
     "text": [
      "/Users/Vinuthna/Downloads/Final_Project/Final_Project/src/data_utils.py:203: DtypeWarning: Columns (5,7) have mixed types. Specify dtype option on import or set low_memory=False.\n",
      "  df = pd.read_csv(csv_file)\n",
      "/Users/Vinuthna/Downloads/Final_Project/Final_Project/src/data_utils.py:111: SettingWithCopyWarning: \n",
      "A value is trying to be set on a copy of a slice from a DataFrame.\n",
      "Try using .loc[row_indexer,col_indexer] = value instead\n",
      "\n",
      "See the caveats in the documentation: https://pandas.pydata.org/pandas-docs/stable/user_guide/indexing.html#returning-a-view-versus-a-copy\n",
      "  df['start_station_id'] = df['start_station_id'].astype(str)\n"
     ]
    },
    {
     "name": "stdout",
     "output_type": "stream",
     "text": [
      "🗂️ Reading 202306-citibike-tripdata_3.csv\n"
     ]
    },
    {
     "name": "stderr",
     "output_type": "stream",
     "text": [
      "/Users/Vinuthna/Downloads/Final_Project/Final_Project/src/data_utils.py:203: DtypeWarning: Columns (5,7) have mixed types. Specify dtype option on import or set low_memory=False.\n",
      "  df = pd.read_csv(csv_file)\n",
      "/Users/Vinuthna/Downloads/Final_Project/Final_Project/src/data_utils.py:111: SettingWithCopyWarning: \n",
      "A value is trying to be set on a copy of a slice from a DataFrame.\n",
      "Try using .loc[row_indexer,col_indexer] = value instead\n",
      "\n",
      "See the caveats in the documentation: https://pandas.pydata.org/pandas-docs/stable/user_guide/indexing.html#returning-a-view-versus-a-copy\n",
      "  df['start_station_id'] = df['start_station_id'].astype(str)\n"
     ]
    },
    {
     "name": "stdout",
     "output_type": "stream",
     "text": [
      "🗂️ Reading 202306-citibike-tripdata_1.csv\n"
     ]
    },
    {
     "name": "stderr",
     "output_type": "stream",
     "text": [
      "/Users/Vinuthna/Downloads/Final_Project/Final_Project/src/data_utils.py:203: DtypeWarning: Columns (5,7) have mixed types. Specify dtype option on import or set low_memory=False.\n",
      "  df = pd.read_csv(csv_file)\n",
      "/Users/Vinuthna/Downloads/Final_Project/Final_Project/src/data_utils.py:111: SettingWithCopyWarning: \n",
      "A value is trying to be set on a copy of a slice from a DataFrame.\n",
      "Try using .loc[row_indexer,col_indexer] = value instead\n",
      "\n",
      "See the caveats in the documentation: https://pandas.pydata.org/pandas-docs/stable/user_guide/indexing.html#returning-a-view-versus-a-copy\n",
      "  df['start_station_id'] = df['start_station_id'].astype(str)\n"
     ]
    },
    {
     "name": "stdout",
     "output_type": "stream",
     "text": [
      "🗂️ Reading 202306-citibike-tripdata_4.csv\n"
     ]
    },
    {
     "name": "stderr",
     "output_type": "stream",
     "text": [
      "/Users/Vinuthna/Downloads/Final_Project/Final_Project/src/data_utils.py:203: DtypeWarning: Columns (5,7) have mixed types. Specify dtype option on import or set low_memory=False.\n",
      "  df = pd.read_csv(csv_file)\n",
      "/Users/Vinuthna/Downloads/Final_Project/Final_Project/src/data_utils.py:111: SettingWithCopyWarning: \n",
      "A value is trying to be set on a copy of a slice from a DataFrame.\n",
      "Try using .loc[row_indexer,col_indexer] = value instead\n",
      "\n",
      "See the caveats in the documentation: https://pandas.pydata.org/pandas-docs/stable/user_guide/indexing.html#returning-a-view-versus-a-copy\n",
      "  df['start_station_id'] = df['start_station_id'].astype(str)\n"
     ]
    },
    {
     "name": "stdout",
     "output_type": "stream",
     "text": [
      "✅ Finished processing for 2023-06\n",
      "📦 Extracting 202307-citibike-tripdata.zip\n",
      "\n",
      "📁 Checking for CSVs in: /Users/Vinuthna/Downloads/Final_Project/Final_Project/data/raw/2023-citibike-tripdata/2023-citibike-tripdata/202307-citibike-tripdata\n",
      "🗂️ Reading 202307-citibike-tripdata_4.csv\n"
     ]
    },
    {
     "name": "stderr",
     "output_type": "stream",
     "text": [
      "/Users/Vinuthna/Downloads/Final_Project/Final_Project/src/data_utils.py:203: DtypeWarning: Columns (5,7) have mixed types. Specify dtype option on import or set low_memory=False.\n",
      "  df = pd.read_csv(csv_file)\n",
      "/Users/Vinuthna/Downloads/Final_Project/Final_Project/src/data_utils.py:111: SettingWithCopyWarning: \n",
      "A value is trying to be set on a copy of a slice from a DataFrame.\n",
      "Try using .loc[row_indexer,col_indexer] = value instead\n",
      "\n",
      "See the caveats in the documentation: https://pandas.pydata.org/pandas-docs/stable/user_guide/indexing.html#returning-a-view-versus-a-copy\n",
      "  df['start_station_id'] = df['start_station_id'].astype(str)\n"
     ]
    },
    {
     "name": "stdout",
     "output_type": "stream",
     "text": [
      "🗂️ Reading 202307-citibike-tripdata_1.csv\n"
     ]
    },
    {
     "name": "stderr",
     "output_type": "stream",
     "text": [
      "/Users/Vinuthna/Downloads/Final_Project/Final_Project/src/data_utils.py:203: DtypeWarning: Columns (5,7) have mixed types. Specify dtype option on import or set low_memory=False.\n",
      "  df = pd.read_csv(csv_file)\n",
      "/Users/Vinuthna/Downloads/Final_Project/Final_Project/src/data_utils.py:111: SettingWithCopyWarning: \n",
      "A value is trying to be set on a copy of a slice from a DataFrame.\n",
      "Try using .loc[row_indexer,col_indexer] = value instead\n",
      "\n",
      "See the caveats in the documentation: https://pandas.pydata.org/pandas-docs/stable/user_guide/indexing.html#returning-a-view-versus-a-copy\n",
      "  df['start_station_id'] = df['start_station_id'].astype(str)\n"
     ]
    },
    {
     "name": "stdout",
     "output_type": "stream",
     "text": [
      "🗂️ Reading 202307-citibike-tripdata_3.csv\n"
     ]
    },
    {
     "name": "stderr",
     "output_type": "stream",
     "text": [
      "/Users/Vinuthna/Downloads/Final_Project/Final_Project/src/data_utils.py:203: DtypeWarning: Columns (5,7) have mixed types. Specify dtype option on import or set low_memory=False.\n",
      "  df = pd.read_csv(csv_file)\n",
      "/Users/Vinuthna/Downloads/Final_Project/Final_Project/src/data_utils.py:111: SettingWithCopyWarning: \n",
      "A value is trying to be set on a copy of a slice from a DataFrame.\n",
      "Try using .loc[row_indexer,col_indexer] = value instead\n",
      "\n",
      "See the caveats in the documentation: https://pandas.pydata.org/pandas-docs/stable/user_guide/indexing.html#returning-a-view-versus-a-copy\n",
      "  df['start_station_id'] = df['start_station_id'].astype(str)\n"
     ]
    },
    {
     "name": "stdout",
     "output_type": "stream",
     "text": [
      "🗂️ Reading 202307-citibike-tripdata_2.csv\n"
     ]
    },
    {
     "name": "stderr",
     "output_type": "stream",
     "text": [
      "/Users/Vinuthna/Downloads/Final_Project/Final_Project/src/data_utils.py:203: DtypeWarning: Columns (5,7) have mixed types. Specify dtype option on import or set low_memory=False.\n",
      "  df = pd.read_csv(csv_file)\n",
      "/Users/Vinuthna/Downloads/Final_Project/Final_Project/src/data_utils.py:111: SettingWithCopyWarning: \n",
      "A value is trying to be set on a copy of a slice from a DataFrame.\n",
      "Try using .loc[row_indexer,col_indexer] = value instead\n",
      "\n",
      "See the caveats in the documentation: https://pandas.pydata.org/pandas-docs/stable/user_guide/indexing.html#returning-a-view-versus-a-copy\n",
      "  df['start_station_id'] = df['start_station_id'].astype(str)\n"
     ]
    },
    {
     "name": "stdout",
     "output_type": "stream",
     "text": [
      "✅ Finished processing for 2023-07\n",
      "📦 Extracting 202308-citibike-tripdata.zip\n",
      "\n",
      "📁 Checking for CSVs in: /Users/Vinuthna/Downloads/Final_Project/Final_Project/data/raw/2023-citibike-tripdata/2023-citibike-tripdata/202308-citibike-tripdata\n",
      "🗂️ Reading 202308-citibike-tripdata_4.csv\n"
     ]
    },
    {
     "name": "stderr",
     "output_type": "stream",
     "text": [
      "/Users/Vinuthna/Downloads/Final_Project/Final_Project/src/data_utils.py:203: DtypeWarning: Columns (5,7) have mixed types. Specify dtype option on import or set low_memory=False.\n",
      "  df = pd.read_csv(csv_file)\n",
      "/Users/Vinuthna/Downloads/Final_Project/Final_Project/src/data_utils.py:111: SettingWithCopyWarning: \n",
      "A value is trying to be set on a copy of a slice from a DataFrame.\n",
      "Try using .loc[row_indexer,col_indexer] = value instead\n",
      "\n",
      "See the caveats in the documentation: https://pandas.pydata.org/pandas-docs/stable/user_guide/indexing.html#returning-a-view-versus-a-copy\n",
      "  df['start_station_id'] = df['start_station_id'].astype(str)\n"
     ]
    },
    {
     "name": "stdout",
     "output_type": "stream",
     "text": [
      "🗂️ Reading 202308-citibike-tripdata_1.csv\n"
     ]
    },
    {
     "name": "stderr",
     "output_type": "stream",
     "text": [
      "/Users/Vinuthna/Downloads/Final_Project/Final_Project/src/data_utils.py:203: DtypeWarning: Columns (5,7) have mixed types. Specify dtype option on import or set low_memory=False.\n",
      "  df = pd.read_csv(csv_file)\n",
      "/Users/Vinuthna/Downloads/Final_Project/Final_Project/src/data_utils.py:111: SettingWithCopyWarning: \n",
      "A value is trying to be set on a copy of a slice from a DataFrame.\n",
      "Try using .loc[row_indexer,col_indexer] = value instead\n",
      "\n",
      "See the caveats in the documentation: https://pandas.pydata.org/pandas-docs/stable/user_guide/indexing.html#returning-a-view-versus-a-copy\n",
      "  df['start_station_id'] = df['start_station_id'].astype(str)\n"
     ]
    },
    {
     "name": "stdout",
     "output_type": "stream",
     "text": [
      "🗂️ Reading 202308-citibike-tripdata_2.csv\n"
     ]
    },
    {
     "name": "stderr",
     "output_type": "stream",
     "text": [
      "/Users/Vinuthna/Downloads/Final_Project/Final_Project/src/data_utils.py:203: DtypeWarning: Columns (5,7) have mixed types. Specify dtype option on import or set low_memory=False.\n",
      "  df = pd.read_csv(csv_file)\n",
      "/Users/Vinuthna/Downloads/Final_Project/Final_Project/src/data_utils.py:111: SettingWithCopyWarning: \n",
      "A value is trying to be set on a copy of a slice from a DataFrame.\n",
      "Try using .loc[row_indexer,col_indexer] = value instead\n",
      "\n",
      "See the caveats in the documentation: https://pandas.pydata.org/pandas-docs/stable/user_guide/indexing.html#returning-a-view-versus-a-copy\n",
      "  df['start_station_id'] = df['start_station_id'].astype(str)\n"
     ]
    },
    {
     "name": "stdout",
     "output_type": "stream",
     "text": [
      "🗂️ Reading 202308-citibike-tripdata_3.csv\n"
     ]
    },
    {
     "name": "stderr",
     "output_type": "stream",
     "text": [
      "/Users/Vinuthna/Downloads/Final_Project/Final_Project/src/data_utils.py:203: DtypeWarning: Columns (5,7) have mixed types. Specify dtype option on import or set low_memory=False.\n",
      "  df = pd.read_csv(csv_file)\n",
      "/Users/Vinuthna/Downloads/Final_Project/Final_Project/src/data_utils.py:111: SettingWithCopyWarning: \n",
      "A value is trying to be set on a copy of a slice from a DataFrame.\n",
      "Try using .loc[row_indexer,col_indexer] = value instead\n",
      "\n",
      "See the caveats in the documentation: https://pandas.pydata.org/pandas-docs/stable/user_guide/indexing.html#returning-a-view-versus-a-copy\n",
      "  df['start_station_id'] = df['start_station_id'].astype(str)\n"
     ]
    },
    {
     "name": "stdout",
     "output_type": "stream",
     "text": [
      "✅ Finished processing for 2023-08\n",
      "📦 Extracting 202309-citibike-tripdata.zip\n",
      "\n",
      "📁 Checking for CSVs in: /Users/Vinuthna/Downloads/Final_Project/Final_Project/data/raw/2023-citibike-tripdata/2023-citibike-tripdata/202309-citibike-tripdata\n",
      "🗂️ Reading 202309-citibike-tripdata_3.csv\n"
     ]
    },
    {
     "name": "stderr",
     "output_type": "stream",
     "text": [
      "/Users/Vinuthna/Downloads/Final_Project/Final_Project/src/data_utils.py:203: DtypeWarning: Columns (5,7) have mixed types. Specify dtype option on import or set low_memory=False.\n",
      "  df = pd.read_csv(csv_file)\n",
      "/Users/Vinuthna/Downloads/Final_Project/Final_Project/src/data_utils.py:111: SettingWithCopyWarning: \n",
      "A value is trying to be set on a copy of a slice from a DataFrame.\n",
      "Try using .loc[row_indexer,col_indexer] = value instead\n",
      "\n",
      "See the caveats in the documentation: https://pandas.pydata.org/pandas-docs/stable/user_guide/indexing.html#returning-a-view-versus-a-copy\n",
      "  df['start_station_id'] = df['start_station_id'].astype(str)\n"
     ]
    },
    {
     "name": "stdout",
     "output_type": "stream",
     "text": [
      "🗂️ Reading 202309-citibike-tripdata_2.csv\n"
     ]
    },
    {
     "name": "stderr",
     "output_type": "stream",
     "text": [
      "/Users/Vinuthna/Downloads/Final_Project/Final_Project/src/data_utils.py:203: DtypeWarning: Columns (5,7) have mixed types. Specify dtype option on import or set low_memory=False.\n",
      "  df = pd.read_csv(csv_file)\n",
      "/Users/Vinuthna/Downloads/Final_Project/Final_Project/src/data_utils.py:111: SettingWithCopyWarning: \n",
      "A value is trying to be set on a copy of a slice from a DataFrame.\n",
      "Try using .loc[row_indexer,col_indexer] = value instead\n",
      "\n",
      "See the caveats in the documentation: https://pandas.pydata.org/pandas-docs/stable/user_guide/indexing.html#returning-a-view-versus-a-copy\n",
      "  df['start_station_id'] = df['start_station_id'].astype(str)\n"
     ]
    },
    {
     "name": "stdout",
     "output_type": "stream",
     "text": [
      "🗂️ Reading 202309-citibike-tripdata_1.csv\n"
     ]
    },
    {
     "name": "stderr",
     "output_type": "stream",
     "text": [
      "/Users/Vinuthna/Downloads/Final_Project/Final_Project/src/data_utils.py:203: DtypeWarning: Columns (5,7) have mixed types. Specify dtype option on import or set low_memory=False.\n",
      "  df = pd.read_csv(csv_file)\n",
      "/Users/Vinuthna/Downloads/Final_Project/Final_Project/src/data_utils.py:111: SettingWithCopyWarning: \n",
      "A value is trying to be set on a copy of a slice from a DataFrame.\n",
      "Try using .loc[row_indexer,col_indexer] = value instead\n",
      "\n",
      "See the caveats in the documentation: https://pandas.pydata.org/pandas-docs/stable/user_guide/indexing.html#returning-a-view-versus-a-copy\n",
      "  df['start_station_id'] = df['start_station_id'].astype(str)\n"
     ]
    },
    {
     "name": "stdout",
     "output_type": "stream",
     "text": [
      "🗂️ Reading 202309-citibike-tripdata_4.csv\n"
     ]
    },
    {
     "name": "stderr",
     "output_type": "stream",
     "text": [
      "/Users/Vinuthna/Downloads/Final_Project/Final_Project/src/data_utils.py:203: DtypeWarning: Columns (5) have mixed types. Specify dtype option on import or set low_memory=False.\n",
      "  df = pd.read_csv(csv_file)\n",
      "/Users/Vinuthna/Downloads/Final_Project/Final_Project/src/data_utils.py:111: SettingWithCopyWarning: \n",
      "A value is trying to be set on a copy of a slice from a DataFrame.\n",
      "Try using .loc[row_indexer,col_indexer] = value instead\n",
      "\n",
      "See the caveats in the documentation: https://pandas.pydata.org/pandas-docs/stable/user_guide/indexing.html#returning-a-view-versus-a-copy\n",
      "  df['start_station_id'] = df['start_station_id'].astype(str)\n"
     ]
    },
    {
     "name": "stdout",
     "output_type": "stream",
     "text": [
      "✅ Finished processing for 2023-09\n",
      "📦 Extracting 202310-citibike-tripdata.zip\n",
      "\n",
      "📁 Checking for CSVs in: /Users/Vinuthna/Downloads/Final_Project/Final_Project/data/raw/2023-citibike-tripdata/2023-citibike-tripdata/202310-citibike-tripdata\n",
      "🗂️ Reading 202310-citibike-tripdata_3.csv\n"
     ]
    },
    {
     "name": "stderr",
     "output_type": "stream",
     "text": [
      "/Users/Vinuthna/Downloads/Final_Project/Final_Project/src/data_utils.py:203: DtypeWarning: Columns (5,7) have mixed types. Specify dtype option on import or set low_memory=False.\n",
      "  df = pd.read_csv(csv_file)\n",
      "/Users/Vinuthna/Downloads/Final_Project/Final_Project/src/data_utils.py:111: SettingWithCopyWarning: \n",
      "A value is trying to be set on a copy of a slice from a DataFrame.\n",
      "Try using .loc[row_indexer,col_indexer] = value instead\n",
      "\n",
      "See the caveats in the documentation: https://pandas.pydata.org/pandas-docs/stable/user_guide/indexing.html#returning-a-view-versus-a-copy\n",
      "  df['start_station_id'] = df['start_station_id'].astype(str)\n"
     ]
    },
    {
     "name": "stdout",
     "output_type": "stream",
     "text": [
      "🗂️ Reading 202310-citibike-tripdata_2.csv\n"
     ]
    },
    {
     "name": "stderr",
     "output_type": "stream",
     "text": [
      "/Users/Vinuthna/Downloads/Final_Project/Final_Project/src/data_utils.py:203: DtypeWarning: Columns (7) have mixed types. Specify dtype option on import or set low_memory=False.\n",
      "  df = pd.read_csv(csv_file)\n",
      "/Users/Vinuthna/Downloads/Final_Project/Final_Project/src/data_utils.py:111: SettingWithCopyWarning: \n",
      "A value is trying to be set on a copy of a slice from a DataFrame.\n",
      "Try using .loc[row_indexer,col_indexer] = value instead\n",
      "\n",
      "See the caveats in the documentation: https://pandas.pydata.org/pandas-docs/stable/user_guide/indexing.html#returning-a-view-versus-a-copy\n",
      "  df['start_station_id'] = df['start_station_id'].astype(str)\n"
     ]
    },
    {
     "name": "stdout",
     "output_type": "stream",
     "text": [
      "🗂️ Reading 202310-citibike-tripdata_1.csv\n"
     ]
    },
    {
     "name": "stderr",
     "output_type": "stream",
     "text": [
      "/Users/Vinuthna/Downloads/Final_Project/Final_Project/src/data_utils.py:203: DtypeWarning: Columns (7) have mixed types. Specify dtype option on import or set low_memory=False.\n",
      "  df = pd.read_csv(csv_file)\n",
      "/Users/Vinuthna/Downloads/Final_Project/Final_Project/src/data_utils.py:111: SettingWithCopyWarning: \n",
      "A value is trying to be set on a copy of a slice from a DataFrame.\n",
      "Try using .loc[row_indexer,col_indexer] = value instead\n",
      "\n",
      "See the caveats in the documentation: https://pandas.pydata.org/pandas-docs/stable/user_guide/indexing.html#returning-a-view-versus-a-copy\n",
      "  df['start_station_id'] = df['start_station_id'].astype(str)\n"
     ]
    },
    {
     "name": "stdout",
     "output_type": "stream",
     "text": [
      "🗂️ Reading 202310-citibike-tripdata_4.csv\n"
     ]
    },
    {
     "name": "stderr",
     "output_type": "stream",
     "text": [
      "/Users/Vinuthna/Downloads/Final_Project/Final_Project/src/data_utils.py:203: DtypeWarning: Columns (7) have mixed types. Specify dtype option on import or set low_memory=False.\n",
      "  df = pd.read_csv(csv_file)\n",
      "/Users/Vinuthna/Downloads/Final_Project/Final_Project/src/data_utils.py:111: SettingWithCopyWarning: \n",
      "A value is trying to be set on a copy of a slice from a DataFrame.\n",
      "Try using .loc[row_indexer,col_indexer] = value instead\n",
      "\n",
      "See the caveats in the documentation: https://pandas.pydata.org/pandas-docs/stable/user_guide/indexing.html#returning-a-view-versus-a-copy\n",
      "  df['start_station_id'] = df['start_station_id'].astype(str)\n"
     ]
    },
    {
     "name": "stdout",
     "output_type": "stream",
     "text": [
      "✅ Finished processing for 2023-10\n",
      "📦 Extracting 202311-citibike-tripdata.zip\n",
      "\n",
      "📁 Checking for CSVs in: /Users/Vinuthna/Downloads/Final_Project/Final_Project/data/raw/2023-citibike-tripdata/2023-citibike-tripdata/202311-citibike-tripdata\n",
      "🗂️ Reading 202311-citibike-tripdata_1.csv\n"
     ]
    },
    {
     "name": "stderr",
     "output_type": "stream",
     "text": [
      "/Users/Vinuthna/Downloads/Final_Project/Final_Project/src/data_utils.py:203: DtypeWarning: Columns (7) have mixed types. Specify dtype option on import or set low_memory=False.\n",
      "  df = pd.read_csv(csv_file)\n",
      "/Users/Vinuthna/Downloads/Final_Project/Final_Project/src/data_utils.py:111: SettingWithCopyWarning: \n",
      "A value is trying to be set on a copy of a slice from a DataFrame.\n",
      "Try using .loc[row_indexer,col_indexer] = value instead\n",
      "\n",
      "See the caveats in the documentation: https://pandas.pydata.org/pandas-docs/stable/user_guide/indexing.html#returning-a-view-versus-a-copy\n",
      "  df['start_station_id'] = df['start_station_id'].astype(str)\n"
     ]
    },
    {
     "name": "stdout",
     "output_type": "stream",
     "text": [
      "🗂️ Reading 202311-citibike-tripdata_2.csv\n"
     ]
    },
    {
     "name": "stderr",
     "output_type": "stream",
     "text": [
      "/Users/Vinuthna/Downloads/Final_Project/Final_Project/src/data_utils.py:203: DtypeWarning: Columns (5,7) have mixed types. Specify dtype option on import or set low_memory=False.\n",
      "  df = pd.read_csv(csv_file)\n",
      "/Users/Vinuthna/Downloads/Final_Project/Final_Project/src/data_utils.py:111: SettingWithCopyWarning: \n",
      "A value is trying to be set on a copy of a slice from a DataFrame.\n",
      "Try using .loc[row_indexer,col_indexer] = value instead\n",
      "\n",
      "See the caveats in the documentation: https://pandas.pydata.org/pandas-docs/stable/user_guide/indexing.html#returning-a-view-versus-a-copy\n",
      "  df['start_station_id'] = df['start_station_id'].astype(str)\n"
     ]
    },
    {
     "name": "stdout",
     "output_type": "stream",
     "text": [
      "🗂️ Reading 202311-citibike-tripdata_3.csv\n"
     ]
    },
    {
     "name": "stderr",
     "output_type": "stream",
     "text": [
      "/Users/Vinuthna/Downloads/Final_Project/Final_Project/src/data_utils.py:203: DtypeWarning: Columns (7) have mixed types. Specify dtype option on import or set low_memory=False.\n",
      "  df = pd.read_csv(csv_file)\n",
      "/Users/Vinuthna/Downloads/Final_Project/Final_Project/src/data_utils.py:111: SettingWithCopyWarning: \n",
      "A value is trying to be set on a copy of a slice from a DataFrame.\n",
      "Try using .loc[row_indexer,col_indexer] = value instead\n",
      "\n",
      "See the caveats in the documentation: https://pandas.pydata.org/pandas-docs/stable/user_guide/indexing.html#returning-a-view-versus-a-copy\n",
      "  df['start_station_id'] = df['start_station_id'].astype(str)\n"
     ]
    },
    {
     "name": "stdout",
     "output_type": "stream",
     "text": [
      "✅ Finished processing for 2023-11\n",
      "📦 Extracting 202312-citibike-tripdata.zip\n",
      "\n",
      "📁 Checking for CSVs in: /Users/Vinuthna/Downloads/Final_Project/Final_Project/data/raw/2023-citibike-tripdata/2023-citibike-tripdata/202312-citibike-tripdata\n",
      "🗂️ Reading 202312-citibike-tripdata_2.csv\n"
     ]
    },
    {
     "name": "stderr",
     "output_type": "stream",
     "text": [
      "/Users/Vinuthna/Downloads/Final_Project/Final_Project/src/data_utils.py:203: DtypeWarning: Columns (7) have mixed types. Specify dtype option on import or set low_memory=False.\n",
      "  df = pd.read_csv(csv_file)\n",
      "/Users/Vinuthna/Downloads/Final_Project/Final_Project/src/data_utils.py:111: SettingWithCopyWarning: \n",
      "A value is trying to be set on a copy of a slice from a DataFrame.\n",
      "Try using .loc[row_indexer,col_indexer] = value instead\n",
      "\n",
      "See the caveats in the documentation: https://pandas.pydata.org/pandas-docs/stable/user_guide/indexing.html#returning-a-view-versus-a-copy\n",
      "  df['start_station_id'] = df['start_station_id'].astype(str)\n"
     ]
    },
    {
     "name": "stdout",
     "output_type": "stream",
     "text": [
      "🗂️ Reading 202312-citibike-tripdata_3.csv\n"
     ]
    },
    {
     "name": "stderr",
     "output_type": "stream",
     "text": [
      "/Users/Vinuthna/Downloads/Final_Project/Final_Project/src/data_utils.py:203: DtypeWarning: Columns (7) have mixed types. Specify dtype option on import or set low_memory=False.\n",
      "  df = pd.read_csv(csv_file)\n",
      "/Users/Vinuthna/Downloads/Final_Project/Final_Project/src/data_utils.py:111: SettingWithCopyWarning: \n",
      "A value is trying to be set on a copy of a slice from a DataFrame.\n",
      "Try using .loc[row_indexer,col_indexer] = value instead\n",
      "\n",
      "See the caveats in the documentation: https://pandas.pydata.org/pandas-docs/stable/user_guide/indexing.html#returning-a-view-versus-a-copy\n",
      "  df['start_station_id'] = df['start_station_id'].astype(str)\n"
     ]
    },
    {
     "name": "stdout",
     "output_type": "stream",
     "text": [
      "🗂️ Reading 202312-citibike-tripdata_1.csv\n"
     ]
    },
    {
     "name": "stderr",
     "output_type": "stream",
     "text": [
      "/Users/Vinuthna/Downloads/Final_Project/Final_Project/src/data_utils.py:203: DtypeWarning: Columns (7) have mixed types. Specify dtype option on import or set low_memory=False.\n",
      "  df = pd.read_csv(csv_file)\n"
     ]
    },
    {
     "name": "stdout",
     "output_type": "stream",
     "text": [
      "✅ Finished processing for 2023-12\n",
      "\n",
      "✅ All data loaded. Total records: 316,816\n"
     ]
    },
    {
     "name": "stderr",
     "output_type": "stream",
     "text": [
      "/Users/Vinuthna/Downloads/Final_Project/Final_Project/src/data_utils.py:111: SettingWithCopyWarning: \n",
      "A value is trying to be set on a copy of a slice from a DataFrame.\n",
      "Try using .loc[row_indexer,col_indexer] = value instead\n",
      "\n",
      "See the caveats in the documentation: https://pandas.pydata.org/pandas-docs/stable/user_guide/indexing.html#returning-a-view-versus-a-copy\n",
      "  df['start_station_id'] = df['start_station_id'].astype(str)\n"
     ]
    }
   ],
   "source": [
    "rides = load_and_process_citibike_data(year=2023)\n"
   ]
  },
  {
   "cell_type": "code",
   "execution_count": 4,
   "id": "84851918",
   "metadata": {},
   "outputs": [
    {
     "name": "stdout",
     "output_type": "stream",
     "text": [
      "\n",
      "📂 Found 2 CSV(s) in: 202301-citibike-tripdata\n",
      "\n",
      "📂 Found 2 CSV(s) in: 202302-citibike-tripdata\n",
      "\n",
      "📂 Found 3 CSV(s) in: 202303-citibike-tripdata\n",
      "\n",
      "📂 Found 3 CSV(s) in: 202304-citibike-tripdata\n",
      "\n",
      "📂 Found 4 CSV(s) in: 202305-citibike-tripdata\n",
      "\n",
      "📂 Found 4 CSV(s) in: 202306-citibike-tripdata\n",
      "\n",
      "📂 Found 4 CSV(s) in: 202307-citibike-tripdata\n",
      "\n",
      "📂 Found 4 CSV(s) in: 202308-citibike-tripdata\n",
      "\n",
      "📂 Found 4 CSV(s) in: 202309-citibike-tripdata\n",
      "\n",
      "📂 Found 4 CSV(s) in: 202310-citibike-tripdata\n",
      "\n",
      "📂 Found 3 CSV(s) in: 202311-citibike-tripdata\n",
      "\n",
      "📂 Found 3 CSV(s) in: 202312-citibike-tripdata\n",
      "\n",
      "🏆 Top 3 Start Station IDs by Ride Count:\n",
      "1. Station ID: 6140.05 — 125,462 rides\n",
      "2. Station ID: 6948.10 — 104,527 rides\n",
      "3. Station ID: 5329.03 — 101,276 rides\n"
     ]
    }
   ],
   "source": [
    "import pandas as pd\n",
    "from pathlib import Path\n",
    "from collections import Counter\n",
    "\n",
    "# ✅ Base path should be the parent folder containing all monthly folders\n",
    "base_path = Path(r\"/Users/Vinuthna/Downloads/Final_Project/Final_Project/data/raw/2023-citibike-tripdata/2023-citibike-tripdata\")\n",
    "\n",
    "all_counts = Counter()\n",
    "\n",
    "# Loop through each month's folder (January to December)\n",
    "for month in range(1, 13):\n",
    "    month_str = f\"{2023}{month:02d}-citibike-tripdata\"\n",
    "    month_path = base_path / month_str\n",
    "    if not month_path.exists():\n",
    "        print(f\"❌ Skipping missing folder: {month_path}\")\n",
    "        continue\n",
    "\n",
    "    # Find all CSV files in the month's folder\n",
    "    csv_files = list(month_path.glob(\"*.csv\"))\n",
    "    print(f\"\\n📂 Found {len(csv_files)} CSV(s) in: {month_path.name}\")\n",
    "\n",
    "    for csv_file in csv_files:\n",
    "        try:\n",
    "            df = pd.read_csv(csv_file, low_memory=False)\n",
    "\n",
    "            if 'start_station_id' in df.columns:\n",
    "                df = df.dropna(subset=['start_station_id'])\n",
    "                counts = df['start_station_id'].value_counts()\n",
    "                all_counts.update(counts.to_dict())\n",
    "            else:\n",
    "                print(f\"⚠️ Missing 'start_station_id' in {csv_file.name}\")\n",
    "\n",
    "        except Exception as e:\n",
    "            print(f\"❌ Failed to read {csv_file.name}: {e}\")\n",
    "\n",
    "# Get top 3 most frequent start station IDs\n",
    "top_3 = all_counts.most_common(3)\n",
    "print(\"\\n🏆 Top 3 Start Station IDs by Ride Count:\")\n",
    "for idx, (station_id, count) in enumerate(top_3, 1):\n",
    "    print(f\"{idx}. Station ID: {station_id} — {count:,} rides\")\n"
   ]
  },
  {
   "cell_type": "code",
   "execution_count": 5,
   "id": "1a34997c",
   "metadata": {},
   "outputs": [
    {
     "data": {
      "text/plain": [
       "start_station_id\n",
       "6140.05    139838\n",
       "5329.03    110736\n",
       "6948.10     66242\n",
       "Name: count, dtype: int64"
      ]
     },
     "execution_count": 5,
     "metadata": {},
     "output_type": "execute_result"
    }
   ],
   "source": [
    "rides[\"start_station_id\"].value_counts()"
   ]
  },
  {
   "cell_type": "code",
   "execution_count": 6,
   "id": "e60232a7",
   "metadata": {},
   "outputs": [],
   "source": [
    "rides.rename(columns={\"start_station_id\": \"pickup_location_id\", \"started_at\": \"pickup_datetime\"}, inplace=True)\n"
   ]
  },
  {
   "cell_type": "code",
   "execution_count": 7,
   "id": "33145f6b",
   "metadata": {},
   "outputs": [],
   "source": [
    "from src.data_utils import transform_raw_data_into_ts_data"
   ]
  },
  {
   "cell_type": "code",
   "execution_count": 8,
   "id": "a8f3daa2",
   "metadata": {},
   "outputs": [
    {
     "name": "stdout",
     "output_type": "stream",
     "text": [
      "          pickup_hour pickup_location_id  rides\n",
      "0 2022-12-28 11:00:00            5329.03      1\n",
      "1 2022-12-28 12:00:00            5329.03      0\n",
      "2 2022-12-28 13:00:00            5329.03      0\n",
      "3 2022-12-28 14:00:00            5329.03      0\n",
      "4 2022-12-28 15:00:00            5329.03      0\n"
     ]
    },
    {
     "data": {
      "image/png": "[encoded data removed]",
      "text/plain": [
       "<Figure size 1200x500 with 1 Axes>"
      ]
     },
     "metadata": {},
     "output_type": "display_data"
    }
   ],
   "source": [
    "# Transform filtered rides into hourly time-series format\n",
    "rides_ts = transform_raw_data_into_ts_data(rides)\n",
    "\n",
    "# Preview the transformed time-series data\n",
    "import matplotlib.pyplot as plt\n",
    "\n",
    "print(rides_ts.head())\n",
    "\n",
    "# Optional: Plot a sample time series for one location\n",
    "sample_loc = rides_ts[\"pickup_location_id\"].unique()[0]\n",
    "rides_ts[rides_ts[\"pickup_location_id\"] == sample_loc].plot(\n",
    "    x=\"pickup_hour\", y=\"rides\", title=f\"Hourly rides for location {sample_loc}\", figsize=(12, 5)\n",
    ")\n",
    "plt.xlabel(\"Time\")\n",
    "plt.ylabel(\"Number of Rides\")\n",
    "plt.grid(True)\n",
    "plt.show()\n"
   ]
  },
  {
   "cell_type": "code",
   "execution_count": 9,
   "id": "d9f0b125",
   "metadata": {},
   "outputs": [
    {
     "name": "stdout",
     "output_type": "stream",
     "text": [
      "   rides_t-12  rides_t-11  rides_t-10  rides_t-9  rides_t-8  rides_t-7  \\\n",
      "0           1           0           0          0          0          0   \n",
      "1           0           0           0          0          0          0   \n",
      "2           0           0           0          0          0          0   \n",
      "3           0           0           0          0          0          0   \n",
      "4           0           0           0          0          0          0   \n",
      "\n",
      "   rides_t-6  rides_t-5  rides_t-4  rides_t-3  rides_t-2  rides_t-1  target  \\\n",
      "0          0          0          0          0          0          0       0   \n",
      "1          0          0          0          0          0          0       0   \n",
      "2          0          0          0          0          0          0       0   \n",
      "3          0          0          0          0          0          0       0   \n",
      "4          0          0          0          0          0          0       0   \n",
      "\n",
      "          pickup_hour pickup_location_id  \n",
      "0 2022-12-28 23:00:00            5329.03  \n",
      "1 2022-12-29 00:00:00            5329.03  \n",
      "2 2022-12-29 01:00:00            5329.03  \n",
      "3 2022-12-29 02:00:00            5329.03  \n",
      "4 2022-12-29 03:00:00            5329.03  \n",
      "\n",
      "Target sample:\n",
      "0    0\n",
      "1    0\n",
      "2    0\n",
      "3    0\n",
      "4    0\n",
      "Name: target, dtype: int64\n"
     ]
    }
   ],
   "source": [
    "from src.data_utils import transform_ts_data_info_features_and_target_loop\n",
    "\n",
    "# Create features and target from hourly ride data\n",
    "features_df, target_series = transform_ts_data_info_features_and_target_loop(\n",
    "    df=rides_ts,\n",
    "    feature_col=\"rides\",\n",
    "    window_size=12,   # You can change this if needed\n",
    "    step_size=1       # Slide by 1 hour\n",
    ")\n",
    "\n",
    "# Show feature columns\n",
    "print(features_df.head())\n",
    "print(\"\\nTarget sample:\")\n",
    "print(target_series.head())\n"
   ]
  },
  {
   "cell_type": "code",
   "execution_count": 10,
   "id": "eaa4c94e",
   "metadata": {},
   "outputs": [],
   "source": [
    "def compare_aggregation_levels(rides_df):\n",
    "    import matplotlib.pyplot as plt\n",
    "\n",
    "    # Ensure timestamp exists\n",
    "    if \"pickup_hour\" not in rides_df.columns:\n",
    "        rides_df[\"pickup_hour\"] = pd.to_datetime(rides_df[\"pickup_datetime\"]).dt.floor(\"h\")\n",
    "\n",
    "    # Aggregate: Hourly\n",
    "    hourly_agg = (\n",
    "        rides_df.groupby([\"pickup_hour\", \"pickup_location_id\"])\n",
    "        .size()\n",
    "        .reset_index(name=\"rides\")\n",
    "    )\n",
    "\n",
    "    # Aggregate: 4-Hour\n",
    "    rides_df[\"pickup_4h\"] = rides_df[\"pickup_hour\"].dt.floor(\"4H\")\n",
    "    agg_4h = (\n",
    "        rides_df.groupby([\"pickup_4h\", \"pickup_location_id\"])\n",
    "        .size()\n",
    "        .reset_index(name=\"rides\")\n",
    "    )\n",
    "\n",
    "    # Pick a sample station for plotting\n",
    "    top_station = rides_df[\"pickup_location_id\"].value_counts().idxmax()\n",
    "\n",
    "    fig, ax = plt.subplots(2, 1, figsize=(14, 8), sharex=True)\n",
    "\n",
    "    # Hourly plot\n",
    "    hourly_plot = hourly_agg[hourly_agg[\"pickup_location_id\"] == top_station]\n",
    "    ax[0].plot(hourly_plot[\"pickup_hour\"], hourly_plot[\"rides\"])\n",
    "    ax[0].set_title(f\"Hourly Ride Count - Station {top_station}\")\n",
    "    ax[0].set_ylabel(\"Rides/hour\")\n",
    "    ax[0].grid(True)\n",
    "\n",
    "    # 4-hour plot\n",
    "    agg_4h_plot = agg_4h[agg_4h[\"pickup_location_id\"] == top_station]\n",
    "    ax[1].plot(agg_4h_plot[\"pickup_4h\"], agg_4h_plot[\"rides\"], color=\"orange\")\n",
    "    ax[1].set_title(f\"4-Hour Ride Count - Station {top_station}\")\n",
    "    ax[1].set_ylabel(\"Rides/4 hours\")\n",
    "    ax[1].set_xlabel(\"Time\")\n",
    "    ax[1].grid(True)\n",
    "\n",
    "    plt.tight_layout()\n",
    "    plt.show()\n",
    "\n",
    "    return top_station, hourly_plot, agg_4h_plot\n"
   ]
  },
  {
   "cell_type": "code",
   "execution_count": 11,
   "id": "852cf37a",
   "metadata": {},
   "outputs": [
    {
     "name": "stdout",
     "output_type": "stream",
     "text": [
      "✅ Saved tabular data to: /Users/Vinuthna/Downloads/Final_Project/Final_Project/data/transformed/citibike_tabular_data.parquet\n"
     ]
    }
   ],
   "source": [
    "from src.config import TRANSFORMED_DATA_DIR\n",
    "\n",
    "# Combine features and target\n",
    "tabular_data = features_df.copy()\n",
    "tabular_data[\"target\"] = target_series\n",
    "\n",
    "# Save as Parquet\n",
    "tabular_data.to_parquet(TRANSFORMED_DATA_DIR / \"citibike_tabular_data.parquet\", engine=\"pyarrow\")\n",
    "print(\"✅ Saved tabular data to:\", TRANSFORMED_DATA_DIR / \"citibike_tabular_data.parquet\")\n"
   ]
  },
  {
   "cell_type": "code",
   "execution_count": 12,
   "id": "3c57f956",
   "metadata": {},
   "outputs": [
    {
     "data": {
      "text/html": [
       "<div>\n",
       "<style scoped>\n",
       "    .dataframe tbody tr th:only-of-type {\n",
       "        vertical-align: middle;\n",
       "    }\n",
       "\n",
       "    .dataframe tbody tr th {\n",
       "        vertical-align: top;\n",
       "    }\n",
       "\n",
       "    .dataframe thead th {\n",
       "        text-align: right;\n",
       "    }\n",
       "</style>\n",
       "<table border=\"1\" class=\"dataframe\">\n",
       "  <thead>\n",
       "    <tr style=\"text-align: right;\">\n",
       "      <th></th>\n",
       "      <th>rides_t-12</th>\n",
       "      <th>rides_t-11</th>\n",
       "      <th>rides_t-10</th>\n",
       "      <th>rides_t-9</th>\n",
       "      <th>rides_t-8</th>\n",
       "      <th>rides_t-7</th>\n",
       "      <th>rides_t-6</th>\n",
       "      <th>rides_t-5</th>\n",
       "      <th>rides_t-4</th>\n",
       "      <th>rides_t-3</th>\n",
       "      <th>rides_t-2</th>\n",
       "      <th>rides_t-1</th>\n",
       "      <th>target</th>\n",
       "      <th>pickup_hour</th>\n",
       "      <th>pickup_location_id</th>\n",
       "    </tr>\n",
       "  </thead>\n",
       "  <tbody>\n",
       "    <tr>\n",
       "      <th>0</th>\n",
       "      <td>1</td>\n",
       "      <td>0</td>\n",
       "      <td>0</td>\n",
       "      <td>0</td>\n",
       "      <td>0</td>\n",
       "      <td>0</td>\n",
       "      <td>0</td>\n",
       "      <td>0</td>\n",
       "      <td>0</td>\n",
       "      <td>0</td>\n",
       "      <td>0</td>\n",
       "      <td>0</td>\n",
       "      <td>0</td>\n",
       "      <td>2022-12-28 23:00:00</td>\n",
       "      <td>5329.03</td>\n",
       "    </tr>\n",
       "    <tr>\n",
       "      <th>1</th>\n",
       "      <td>0</td>\n",
       "      <td>0</td>\n",
       "      <td>0</td>\n",
       "      <td>0</td>\n",
       "      <td>0</td>\n",
       "      <td>0</td>\n",
       "      <td>0</td>\n",
       "      <td>0</td>\n",
       "      <td>0</td>\n",
       "      <td>0</td>\n",
       "      <td>0</td>\n",
       "      <td>0</td>\n",
       "      <td>0</td>\n",
       "      <td>2022-12-29 00:00:00</td>\n",
       "      <td>5329.03</td>\n",
       "    </tr>\n",
       "    <tr>\n",
       "      <th>2</th>\n",
       "      <td>0</td>\n",
       "      <td>0</td>\n",
       "      <td>0</td>\n",
       "      <td>0</td>\n",
       "      <td>0</td>\n",
       "      <td>0</td>\n",
       "      <td>0</td>\n",
       "      <td>0</td>\n",
       "      <td>0</td>\n",
       "      <td>0</td>\n",
       "      <td>0</td>\n",
       "      <td>0</td>\n",
       "      <td>0</td>\n",
       "      <td>2022-12-29 01:00:00</td>\n",
       "      <td>5329.03</td>\n",
       "    </tr>\n",
       "    <tr>\n",
       "      <th>3</th>\n",
       "      <td>0</td>\n",
       "      <td>0</td>\n",
       "      <td>0</td>\n",
       "      <td>0</td>\n",
       "      <td>0</td>\n",
       "      <td>0</td>\n",
       "      <td>0</td>\n",
       "      <td>0</td>\n",
       "      <td>0</td>\n",
       "      <td>0</td>\n",
       "      <td>0</td>\n",
       "      <td>0</td>\n",
       "      <td>0</td>\n",
       "      <td>2022-12-29 02:00:00</td>\n",
       "      <td>5329.03</td>\n",
       "    </tr>\n",
       "    <tr>\n",
       "      <th>4</th>\n",
       "      <td>0</td>\n",
       "      <td>0</td>\n",
       "      <td>0</td>\n",
       "      <td>0</td>\n",
       "      <td>0</td>\n",
       "      <td>0</td>\n",
       "      <td>0</td>\n",
       "      <td>0</td>\n",
       "      <td>0</td>\n",
       "      <td>0</td>\n",
       "      <td>0</td>\n",
       "      <td>0</td>\n",
       "      <td>0</td>\n",
       "      <td>2022-12-29 03:00:00</td>\n",
       "      <td>5329.03</td>\n",
       "    </tr>\n",
       "  </tbody>\n",
       "</table>\n",
       "</div>"
      ],
      "text/plain": [
       "   rides_t-12  rides_t-11  rides_t-10  rides_t-9  rides_t-8  rides_t-7  \\\n",
       "0           1           0           0          0          0          0   \n",
       "1           0           0           0          0          0          0   \n",
       "2           0           0           0          0          0          0   \n",
       "3           0           0           0          0          0          0   \n",
       "4           0           0           0          0          0          0   \n",
       "\n",
       "   rides_t-6  rides_t-5  rides_t-4  rides_t-3  rides_t-2  rides_t-1  target  \\\n",
       "0          0          0          0          0          0          0       0   \n",
       "1          0          0          0          0          0          0       0   \n",
       "2          0          0          0          0          0          0       0   \n",
       "3          0          0          0          0          0          0       0   \n",
       "4          0          0          0          0          0          0       0   \n",
       "\n",
       "          pickup_hour pickup_location_id  \n",
       "0 2022-12-28 23:00:00            5329.03  \n",
       "1 2022-12-29 00:00:00            5329.03  \n",
       "2 2022-12-29 01:00:00            5329.03  \n",
       "3 2022-12-29 02:00:00            5329.03  \n",
       "4 2022-12-29 03:00:00            5329.03  "
      ]
     },
     "execution_count": 12,
     "metadata": {},
     "output_type": "execute_result"
    }
   ],
   "source": [
    "import pandas as pd\n",
    "from src.config import TRANSFORMED_DATA_DIR\n",
    "\n",
    "# Load the saved parquet file\n",
    "tabular_data = pd.read_parquet(TRANSFORMED_DATA_DIR / \"citibike_tabular_data.parquet\")\n",
    "\n",
    "# Show the first few rows\n",
    "tabular_data.head()\n"
   ]
  },
  {
   "cell_type": "code",
   "execution_count": 13,
   "id": "d58a16ca",
   "metadata": {},
   "outputs": [
    {
     "data": {
      "text/html": [
       "<div>\n",
       "<style scoped>\n",
       "    .dataframe tbody tr th:only-of-type {\n",
       "        vertical-align: middle;\n",
       "    }\n",
       "\n",
       "    .dataframe tbody tr th {\n",
       "        vertical-align: top;\n",
       "    }\n",
       "\n",
       "    .dataframe thead th {\n",
       "        text-align: right;\n",
       "    }\n",
       "</style>\n",
       "<table border=\"1\" class=\"dataframe\">\n",
       "  <thead>\n",
       "    <tr style=\"text-align: right;\">\n",
       "      <th></th>\n",
       "      <th>rides_t-12</th>\n",
       "      <th>rides_t-11</th>\n",
       "      <th>rides_t-10</th>\n",
       "      <th>rides_t-9</th>\n",
       "      <th>rides_t-8</th>\n",
       "      <th>rides_t-7</th>\n",
       "      <th>rides_t-6</th>\n",
       "      <th>rides_t-5</th>\n",
       "      <th>rides_t-4</th>\n",
       "      <th>rides_t-3</th>\n",
       "      <th>rides_t-2</th>\n",
       "      <th>rides_t-1</th>\n",
       "      <th>target</th>\n",
       "      <th>pickup_hour</th>\n",
       "      <th>pickup_location_id</th>\n",
       "    </tr>\n",
       "  </thead>\n",
       "  <tbody>\n",
       "    <tr>\n",
       "      <th>0</th>\n",
       "      <td>1</td>\n",
       "      <td>0</td>\n",
       "      <td>0</td>\n",
       "      <td>0</td>\n",
       "      <td>0</td>\n",
       "      <td>0</td>\n",
       "      <td>0</td>\n",
       "      <td>0</td>\n",
       "      <td>0</td>\n",
       "      <td>0</td>\n",
       "      <td>0</td>\n",
       "      <td>0</td>\n",
       "      <td>0</td>\n",
       "      <td>2022-12-28 23:00:00</td>\n",
       "      <td>5329.03</td>\n",
       "    </tr>\n",
       "    <tr>\n",
       "      <th>1</th>\n",
       "      <td>0</td>\n",
       "      <td>0</td>\n",
       "      <td>0</td>\n",
       "      <td>0</td>\n",
       "      <td>0</td>\n",
       "      <td>0</td>\n",
       "      <td>0</td>\n",
       "      <td>0</td>\n",
       "      <td>0</td>\n",
       "      <td>0</td>\n",
       "      <td>0</td>\n",
       "      <td>0</td>\n",
       "      <td>0</td>\n",
       "      <td>2022-12-29 00:00:00</td>\n",
       "      <td>5329.03</td>\n",
       "    </tr>\n",
       "    <tr>\n",
       "      <th>2</th>\n",
       "      <td>0</td>\n",
       "      <td>0</td>\n",
       "      <td>0</td>\n",
       "      <td>0</td>\n",
       "      <td>0</td>\n",
       "      <td>0</td>\n",
       "      <td>0</td>\n",
       "      <td>0</td>\n",
       "      <td>0</td>\n",
       "      <td>0</td>\n",
       "      <td>0</td>\n",
       "      <td>0</td>\n",
       "      <td>0</td>\n",
       "      <td>2022-12-29 01:00:00</td>\n",
       "      <td>5329.03</td>\n",
       "    </tr>\n",
       "    <tr>\n",
       "      <th>3</th>\n",
       "      <td>0</td>\n",
       "      <td>0</td>\n",
       "      <td>0</td>\n",
       "      <td>0</td>\n",
       "      <td>0</td>\n",
       "      <td>0</td>\n",
       "      <td>0</td>\n",
       "      <td>0</td>\n",
       "      <td>0</td>\n",
       "      <td>0</td>\n",
       "      <td>0</td>\n",
       "      <td>0</td>\n",
       "      <td>0</td>\n",
       "      <td>2022-12-29 02:00:00</td>\n",
       "      <td>5329.03</td>\n",
       "    </tr>\n",
       "    <tr>\n",
       "      <th>4</th>\n",
       "      <td>0</td>\n",
       "      <td>0</td>\n",
       "      <td>0</td>\n",
       "      <td>0</td>\n",
       "      <td>0</td>\n",
       "      <td>0</td>\n",
       "      <td>0</td>\n",
       "      <td>0</td>\n",
       "      <td>0</td>\n",
       "      <td>0</td>\n",
       "      <td>0</td>\n",
       "      <td>0</td>\n",
       "      <td>0</td>\n",
       "      <td>2022-12-29 03:00:00</td>\n",
       "      <td>5329.03</td>\n",
       "    </tr>\n",
       "  </tbody>\n",
       "</table>\n",
       "</div>"
      ],
      "text/plain": [
       "   rides_t-12  rides_t-11  rides_t-10  rides_t-9  rides_t-8  rides_t-7  \\\n",
       "0           1           0           0          0          0          0   \n",
       "1           0           0           0          0          0          0   \n",
       "2           0           0           0          0          0          0   \n",
       "3           0           0           0          0          0          0   \n",
       "4           0           0           0          0          0          0   \n",
       "\n",
       "   rides_t-6  rides_t-5  rides_t-4  rides_t-3  rides_t-2  rides_t-1  target  \\\n",
       "0          0          0          0          0          0          0       0   \n",
       "1          0          0          0          0          0          0       0   \n",
       "2          0          0          0          0          0          0       0   \n",
       "3          0          0          0          0          0          0       0   \n",
       "4          0          0          0          0          0          0       0   \n",
       "\n",
       "          pickup_hour pickup_location_id  \n",
       "0 2022-12-28 23:00:00            5329.03  \n",
       "1 2022-12-29 00:00:00            5329.03  \n",
       "2 2022-12-29 01:00:00            5329.03  \n",
       "3 2022-12-29 02:00:00            5329.03  \n",
       "4 2022-12-29 03:00:00            5329.03  "
      ]
     },
     "execution_count": 13,
     "metadata": {},
     "output_type": "execute_result"
    }
   ],
   "source": [
    "tabular_data.head()\n"
   ]
  },
  {
   "cell_type": "code",
   "execution_count": 14,
   "id": "76dd6cc4",
   "metadata": {},
   "outputs": [],
   "source": [
    "from src.data_utils import transform_ts_data_info_features_and_target_loop\n",
    "\n",
    "# 28-day window size (24 hours * 28 days)\n",
    "features_28d, targets_28d = transform_ts_data_info_features_and_target_loop(\n",
    "    df=rides_ts,\n",
    "    feature_col=\"rides\",\n",
    "    window_size=24 * 28,\n",
    "    step_size=24\n",
    ")\n"
   ]
  },
  {
   "cell_type": "code",
   "execution_count": 15,
   "id": "06664e6f",
   "metadata": {},
   "outputs": [
    {
     "name": "stdout",
     "output_type": "stream",
     "text": [
      "✅ Saved 28-day tabular data to: /Users/Vinuthna/Downloads/Final_Project/Final_Project/data/transformed/citibike_tabular_data_28d.parquet\n"
     ]
    }
   ],
   "source": [
    "tabular_data_28d = features_28d.copy()\n",
    "tabular_data_28d[\"target\"] = targets_28d\n",
    "\n",
    "from src.config import TRANSFORMED_DATA_DIR\n",
    "tabular_data_28d.to_parquet(TRANSFORMED_DATA_DIR / \"citibike_tabular_data_28d.parquet\", engine=\"pyarrow\")\n",
    "print(\"✅ Saved 28-day tabular data to:\", TRANSFORMED_DATA_DIR / \"citibike_tabular_data_28d.parquet\")\n"
   ]
  },
  {
   "cell_type": "code",
   "execution_count": 17,
   "id": "047069e5",
   "metadata": {},
   "outputs": [
    {
     "name": "stdout",
     "output_type": "stream",
     "text": [
      "✅ File loaded successfully!\n",
      "\n",
      "📋 DataFrame Info:\n",
      "<class 'pandas.core.frame.DataFrame'>\n",
      "RangeIndex: 1023 entries, 0 to 1022\n",
      "Columns: 675 entries, rides_t-672 to pickup_location_id\n",
      "dtypes: datetime64[ns](1), int64(673), object(1)\n",
      "memory usage: 5.3+ MB\n",
      "None\n",
      "\n",
      "🔍 Sample Data:\n",
      "   rides_t-672  rides_t-671  rides_t-670  rides_t-669  rides_t-668  \\\n",
      "0            1            0            0            0            0   \n",
      "1            0            0            0            0            0   \n",
      "2            0            0            0            0            0   \n",
      "3            0            0            0            0            0   \n",
      "4           15           12           10           24           23   \n",
      "\n",
      "   rides_t-667  rides_t-666  rides_t-665  rides_t-664  rides_t-663  ...  \\\n",
      "0            0            0            0            0            0  ...   \n",
      "1            0            0            0            0            0  ...   \n",
      "2            0            0            0            0            0  ...   \n",
      "3            0            0            0            0            0  ...   \n",
      "4           14           12            6            5            5  ...   \n",
      "\n",
      "   rides_t-7  rides_t-6  rides_t-5  rides_t-4  rides_t-3  rides_t-2  \\\n",
      "0          0          0          5         12         15         12   \n",
      "1          0          1          5         12         21          6   \n",
      "2          0          1          1         10         12          6   \n",
      "3          0          0          0          2          6          5   \n",
      "4          0          0          0          1          2          9   \n",
      "\n",
      "   rides_t-1  target         pickup_hour  pickup_location_id  \n",
      "0          4       6 2023-01-25 11:00:00             5329.03  \n",
      "1          8       8 2023-01-26 11:00:00             5329.03  \n",
      "2          8       3 2023-01-27 11:00:00             5329.03  \n",
      "3         10      23 2023-01-28 11:00:00             5329.03  \n",
      "4          6      14 2023-01-29 11:00:00             5329.03  \n",
      "\n",
      "[5 rows x 675 columns]\n",
      "\n",
      "📆 Date Range (pickup_hour):\n",
      "Start: 2023-01-25 11:00:00\n",
      "End  : 2023-12-31 11:00:00\n"
     ]
    }
   ],
   "source": [
    "import pandas as pd\n",
    "\n",
    "# ✅ Fixed path with raw string\n",
    "path = r\"/Users/Vinuthna/Downloads/Final_Project/Final_Project/data/transformed/citibike_tabular_data_28d.parquet\"\n",
    "\n",
    "# Load the Parquet file\n",
    "df = pd.read_parquet(path)\n",
    "\n",
    "# Display basic info\n",
    "print(\"✅ File loaded successfully!\\n\")\n",
    "print(\"📋 DataFrame Info:\")\n",
    "print(df.info())\n",
    "\n",
    "# Show first few rows\n",
    "print(\"\\n🔍 Sample Data:\")\n",
    "print(df.head())\n",
    "\n",
    "# Show date range\n",
    "if \"pickup_hour\" in df.columns:\n",
    "    print(\"\\n📆 Date Range (pickup_hour):\")\n",
    "    print(\"Start:\", df[\"pickup_hour\"].min())\n",
    "    print(\"End  :\", df[\"pickup_hour\"].max())\n",
    "else:\n",
    "    print(\"\\n⚠️ Column 'pickup_hour' not found in the DataFrame.\")\n"
   ]
  },
  {
   "cell_type": "code",
   "execution_count": null,
   "id": "35d5b0c8",
   "metadata": {},
   "outputs": [],
   "source": []
  },
  {
   "cell_type": "code",
   "execution_count": null,
   "id": "10925d69",
   "metadata": {},
   "outputs": [],
   "source": []
  }
 ],
 "metadata": {
  "kernelspec": {
   "display_name": "Python 3 (ipykernel)",
   "language": "python",
   "name": "python3"
  },
  "language_info": {
   "codemirror_mode": {
    "name": "ipython",
    "version": 3
   },
   "file_extension": ".py",
   "mimetype": "text/x-python",
   "name": "python",
   "nbconvert_exporter": "python",
   "pygments_lexer": "ipython3",
   "version": "3.12.7"
  }
 },
 "nbformat": 4,
 "nbformat_minor": 5
}
